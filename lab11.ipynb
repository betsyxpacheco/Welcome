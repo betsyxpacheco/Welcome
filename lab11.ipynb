{
  "nbformat": 4,
  "nbformat_minor": 0,
  "metadata": {
    "colab": {
      "provenance": [],
      "name": "lab11",
      "include_colab_link": true
    },
    "kernelspec": {
      "name": "python3",
      "display_name": "Python 3"
    },
    "language_info": {
      "name": "python"
    }
  },
  "cells": [
    {
      "cell_type": "markdown",
      "metadata": {
        "id": "view-in-github",
        "colab_type": "text"
      },
      "source": [
        "<a href=\"https://colab.research.google.com/github/betsyxpacheco/Welcome/blob/main/lab11.ipynb\" target=\"_parent\"><img src=\"https://colab.research.google.com/assets/colab-badge.svg\" alt=\"Open In Colab\"/></a>"
      ]
    },
    {
      "cell_type": "markdown",
      "metadata": {
        "id": "p_Yu45OYdj3Y"
      },
      "source": [
        "# IS 4487 Module 5 Script\n",
        "\n",
        "## Objectives\n",
        "\n",
        "a. Understand model accuracy.  Why is it a performance metric for classification and not regression?\n",
        "    \n",
        "b. Calculate accuracy for a simple majority class model (this is the same as calculating the proportion of the majority class in a binary variable). Consider: x <- c(1, 1, 1, 0, 0).  What is the majority class? What is the proportion of the majority class in x?\n",
        "    \n",
        "c. Fit a tree model of the target with just one predictor variable and calculate the accuracy of this model.\n",
        "    \n",
        "d. Interpret a tree model, and calculate information gain.\n",
        "    \n",
        "e. Fit a tree model of the target using all the predictors, then:  create a visualization of the tree and identify the top 3 most important predictors in this model.\n",
        "    \n",
        "f. How do these models compare to majority class prediction?\n",
        "    \n",
        "g. How will you use a classification model as part of a solution to the AdviseInvest case?\n",
        "\n",
        "We will use the MegaTelCo data for this demonstration."
      ]
    },
    {
      "cell_type": "markdown",
      "metadata": {
        "id": "UE93RwXhgiJS"
      },
      "source": [
        "##Load Libraries\n",
        "\n",
        "In this class we will be using \n",
        "- Pandas\n",
        "- Scikitlearn\n",
        "- Matplotlib\n"
      ]
    },
    {
      "cell_type": "code",
      "metadata": {
        "id": "JYRZY5n0gfNe"
      },
      "source": [
        "import pandas as pd\n",
        "import matplotlib as mpl\n",
        "import numpy as np\n",
        "import csv\n",
        "\n",
        "from sklearn.tree import DecisionTreeClassifier, export_graphviz # Import Decision Tree Classifier\n",
        "from sklearn.model_selection import train_test_split # Import train_test_split function\n",
        "from sklearn import metrics #Import scikit-learn metrics module for accuracy calculation\n",
        "from sklearn import tree\n"
      ],
      "execution_count": null,
      "outputs": []
    },
    {
      "cell_type": "markdown",
      "metadata": {
        "id": "bREaXo8jfu-O"
      },
      "source": [
        "## Getting data into Pandas\n",
        "\n",
        "In this case we will load data from the statsmodels.org library\n",
        "\n",
        "See the Canvas assignments and lectures for a description of the Megatelco data\n",
        "\n",
        "**Note:** you will need to enter a code supplied by Google in the next step. \n"
      ]
    },
    {
      "cell_type": "code",
      "source": [
        "from google.colab import drive\n",
        "drive.mount('/content/gdrive')"
      ],
      "metadata": {
        "colab": {
          "base_uri": "https://localhost:8080/"
        },
        "id": "gKixmHeX4CxA",
        "outputId": "6b3cd60f-2bd0-40c7-dd05-c7e47ecd6f24"
      },
      "execution_count": null,
      "outputs": [
        {
          "output_type": "stream",
          "name": "stdout",
          "text": [
            "Drive already mounted at /content/gdrive; to attempt to forcibly remount, call drive.mount(\"/content/gdrive\", force_remount=True).\n"
          ]
        }
      ]
    },
    {
      "cell_type": "code",
      "metadata": {
        "id": "6_FwprxVgR0e",
        "colab": {
          "base_uri": "https://localhost:8080/"
        },
        "outputId": "8e04d788-d027-4b15-c25d-7ee0bc8301f6"
      },
      "source": [
        "from google.colab import drive \n",
        "drive.mount('/content/gdrive', force_remount=True)\n",
        "\n",
        "df = pd.read_csv (r'/content/gdrive/MyDrive/Colab Notebooks/daily_aqi_by_county_2021.csv',quoting=csv.QUOTE_NONE, encoding='utf-8')"
      ],
      "execution_count": null,
      "outputs": [
        {
          "output_type": "stream",
          "name": "stdout",
          "text": [
            "Mounted at /content/gdrive\n"
          ]
        }
      ]
    },
    {
      "cell_type": "code",
      "metadata": {
        "id": "gSvao0dlhlNn",
        "colab": {
          "base_uri": "https://localhost:8080/",
          "height": 635
        },
        "outputId": "c6f35695-4dd1-40f4-d85f-718513054ef8"
      },
      "source": [
        "#look at the top rows\n",
        "df.head(10) "
      ],
      "execution_count": null,
      "outputs": [
        {
          "output_type": "execute_result",
          "data": {
            "text/plain": [
              "  \"State Name\" \"county Name\" \"State Code\" \"County Code\"        \"Date\"  \"AQI\"  \\\n",
              "0    \"Alabama\"     \"Baldwin\"         \"01\"         \"003\"  \"2021-01-01\"     27   \n",
              "1    \"Alabama\"     \"Baldwin\"         \"01\"         \"003\"  \"2021-01-04\"     47   \n",
              "2    \"Alabama\"     \"Baldwin\"         \"01\"         \"003\"  \"2021-01-07\"     24   \n",
              "3    \"Alabama\"     \"Baldwin\"         \"01\"         \"003\"  \"2021-01-10\"     39   \n",
              "4    \"Alabama\"     \"Baldwin\"         \"01\"         \"003\"  \"2021-01-13\"     46   \n",
              "5    \"Alabama\"     \"Baldwin\"         \"01\"         \"003\"  \"2021-01-16\"     21   \n",
              "6    \"Alabama\"     \"Baldwin\"         \"01\"         \"003\"  \"2021-01-19\"     52   \n",
              "7    \"Alabama\"     \"Baldwin\"         \"01\"         \"003\"  \"2021-01-22\"     11   \n",
              "8    \"Alabama\"     \"Baldwin\"         \"01\"         \"003\"  \"2021-01-25\"     39   \n",
              "9    \"Alabama\"     \"Baldwin\"         \"01\"         \"003\"  \"2021-01-28\"     22   \n",
              "\n",
              "   \"Category\" \"Defining Parameter\" \"Defining Site\"  \\\n",
              "0      \"Good\"              \"PM2.5\"   \"01-003-0010\"   \n",
              "1      \"Good\"              \"PM2.5\"   \"01-003-0010\"   \n",
              "2      \"Good\"              \"PM2.5\"   \"01-003-0010\"   \n",
              "3      \"Good\"              \"PM2.5\"   \"01-003-0010\"   \n",
              "4      \"Good\"              \"PM2.5\"   \"01-003-0010\"   \n",
              "5      \"Good\"              \"PM2.5\"   \"01-003-0010\"   \n",
              "6  \"Moderate\"              \"PM2.5\"   \"01-003-0010\"   \n",
              "7      \"Good\"              \"PM2.5\"   \"01-003-0010\"   \n",
              "8      \"Good\"              \"PM2.5\"   \"01-003-0010\"   \n",
              "9      \"Good\"              \"PM2.5\"   \"01-003-0010\"   \n",
              "\n",
              "   \"Number of Sites Reporting\"  \n",
              "0                            1  \n",
              "1                            1  \n",
              "2                            1  \n",
              "3                            1  \n",
              "4                            1  \n",
              "5                            1  \n",
              "6                            1  \n",
              "7                            1  \n",
              "8                            1  \n",
              "9                            1  "
            ],
            "text/html": [
              "\n",
              "  <div id=\"df-584ff64e-15a4-4b91-a832-b21889d9b8c6\">\n",
              "    <div class=\"colab-df-container\">\n",
              "      <div>\n",
              "<style scoped>\n",
              "    .dataframe tbody tr th:only-of-type {\n",
              "        vertical-align: middle;\n",
              "    }\n",
              "\n",
              "    .dataframe tbody tr th {\n",
              "        vertical-align: top;\n",
              "    }\n",
              "\n",
              "    .dataframe thead th {\n",
              "        text-align: right;\n",
              "    }\n",
              "</style>\n",
              "<table border=\"1\" class=\"dataframe\">\n",
              "  <thead>\n",
              "    <tr style=\"text-align: right;\">\n",
              "      <th></th>\n",
              "      <th>\"State Name\"</th>\n",
              "      <th>\"county Name\"</th>\n",
              "      <th>\"State Code\"</th>\n",
              "      <th>\"County Code\"</th>\n",
              "      <th>\"Date\"</th>\n",
              "      <th>\"AQI\"</th>\n",
              "      <th>\"Category\"</th>\n",
              "      <th>\"Defining Parameter\"</th>\n",
              "      <th>\"Defining Site\"</th>\n",
              "      <th>\"Number of Sites Reporting\"</th>\n",
              "    </tr>\n",
              "  </thead>\n",
              "  <tbody>\n",
              "    <tr>\n",
              "      <th>0</th>\n",
              "      <td>\"Alabama\"</td>\n",
              "      <td>\"Baldwin\"</td>\n",
              "      <td>\"01\"</td>\n",
              "      <td>\"003\"</td>\n",
              "      <td>\"2021-01-01\"</td>\n",
              "      <td>27</td>\n",
              "      <td>\"Good\"</td>\n",
              "      <td>\"PM2.5\"</td>\n",
              "      <td>\"01-003-0010\"</td>\n",
              "      <td>1</td>\n",
              "    </tr>\n",
              "    <tr>\n",
              "      <th>1</th>\n",
              "      <td>\"Alabama\"</td>\n",
              "      <td>\"Baldwin\"</td>\n",
              "      <td>\"01\"</td>\n",
              "      <td>\"003\"</td>\n",
              "      <td>\"2021-01-04\"</td>\n",
              "      <td>47</td>\n",
              "      <td>\"Good\"</td>\n",
              "      <td>\"PM2.5\"</td>\n",
              "      <td>\"01-003-0010\"</td>\n",
              "      <td>1</td>\n",
              "    </tr>\n",
              "    <tr>\n",
              "      <th>2</th>\n",
              "      <td>\"Alabama\"</td>\n",
              "      <td>\"Baldwin\"</td>\n",
              "      <td>\"01\"</td>\n",
              "      <td>\"003\"</td>\n",
              "      <td>\"2021-01-07\"</td>\n",
              "      <td>24</td>\n",
              "      <td>\"Good\"</td>\n",
              "      <td>\"PM2.5\"</td>\n",
              "      <td>\"01-003-0010\"</td>\n",
              "      <td>1</td>\n",
              "    </tr>\n",
              "    <tr>\n",
              "      <th>3</th>\n",
              "      <td>\"Alabama\"</td>\n",
              "      <td>\"Baldwin\"</td>\n",
              "      <td>\"01\"</td>\n",
              "      <td>\"003\"</td>\n",
              "      <td>\"2021-01-10\"</td>\n",
              "      <td>39</td>\n",
              "      <td>\"Good\"</td>\n",
              "      <td>\"PM2.5\"</td>\n",
              "      <td>\"01-003-0010\"</td>\n",
              "      <td>1</td>\n",
              "    </tr>\n",
              "    <tr>\n",
              "      <th>4</th>\n",
              "      <td>\"Alabama\"</td>\n",
              "      <td>\"Baldwin\"</td>\n",
              "      <td>\"01\"</td>\n",
              "      <td>\"003\"</td>\n",
              "      <td>\"2021-01-13\"</td>\n",
              "      <td>46</td>\n",
              "      <td>\"Good\"</td>\n",
              "      <td>\"PM2.5\"</td>\n",
              "      <td>\"01-003-0010\"</td>\n",
              "      <td>1</td>\n",
              "    </tr>\n",
              "    <tr>\n",
              "      <th>5</th>\n",
              "      <td>\"Alabama\"</td>\n",
              "      <td>\"Baldwin\"</td>\n",
              "      <td>\"01\"</td>\n",
              "      <td>\"003\"</td>\n",
              "      <td>\"2021-01-16\"</td>\n",
              "      <td>21</td>\n",
              "      <td>\"Good\"</td>\n",
              "      <td>\"PM2.5\"</td>\n",
              "      <td>\"01-003-0010\"</td>\n",
              "      <td>1</td>\n",
              "    </tr>\n",
              "    <tr>\n",
              "      <th>6</th>\n",
              "      <td>\"Alabama\"</td>\n",
              "      <td>\"Baldwin\"</td>\n",
              "      <td>\"01\"</td>\n",
              "      <td>\"003\"</td>\n",
              "      <td>\"2021-01-19\"</td>\n",
              "      <td>52</td>\n",
              "      <td>\"Moderate\"</td>\n",
              "      <td>\"PM2.5\"</td>\n",
              "      <td>\"01-003-0010\"</td>\n",
              "      <td>1</td>\n",
              "    </tr>\n",
              "    <tr>\n",
              "      <th>7</th>\n",
              "      <td>\"Alabama\"</td>\n",
              "      <td>\"Baldwin\"</td>\n",
              "      <td>\"01\"</td>\n",
              "      <td>\"003\"</td>\n",
              "      <td>\"2021-01-22\"</td>\n",
              "      <td>11</td>\n",
              "      <td>\"Good\"</td>\n",
              "      <td>\"PM2.5\"</td>\n",
              "      <td>\"01-003-0010\"</td>\n",
              "      <td>1</td>\n",
              "    </tr>\n",
              "    <tr>\n",
              "      <th>8</th>\n",
              "      <td>\"Alabama\"</td>\n",
              "      <td>\"Baldwin\"</td>\n",
              "      <td>\"01\"</td>\n",
              "      <td>\"003\"</td>\n",
              "      <td>\"2021-01-25\"</td>\n",
              "      <td>39</td>\n",
              "      <td>\"Good\"</td>\n",
              "      <td>\"PM2.5\"</td>\n",
              "      <td>\"01-003-0010\"</td>\n",
              "      <td>1</td>\n",
              "    </tr>\n",
              "    <tr>\n",
              "      <th>9</th>\n",
              "      <td>\"Alabama\"</td>\n",
              "      <td>\"Baldwin\"</td>\n",
              "      <td>\"01\"</td>\n",
              "      <td>\"003\"</td>\n",
              "      <td>\"2021-01-28\"</td>\n",
              "      <td>22</td>\n",
              "      <td>\"Good\"</td>\n",
              "      <td>\"PM2.5\"</td>\n",
              "      <td>\"01-003-0010\"</td>\n",
              "      <td>1</td>\n",
              "    </tr>\n",
              "  </tbody>\n",
              "</table>\n",
              "</div>\n",
              "      <button class=\"colab-df-convert\" onclick=\"convertToInteractive('df-584ff64e-15a4-4b91-a832-b21889d9b8c6')\"\n",
              "              title=\"Convert this dataframe to an interactive table.\"\n",
              "              style=\"display:none;\">\n",
              "        \n",
              "  <svg xmlns=\"http://www.w3.org/2000/svg\" height=\"24px\"viewBox=\"0 0 24 24\"\n",
              "       width=\"24px\">\n",
              "    <path d=\"M0 0h24v24H0V0z\" fill=\"none\"/>\n",
              "    <path d=\"M18.56 5.44l.94 2.06.94-2.06 2.06-.94-2.06-.94-.94-2.06-.94 2.06-2.06.94zm-11 1L8.5 8.5l.94-2.06 2.06-.94-2.06-.94L8.5 2.5l-.94 2.06-2.06.94zm10 10l.94 2.06.94-2.06 2.06-.94-2.06-.94-.94-2.06-.94 2.06-2.06.94z\"/><path d=\"M17.41 7.96l-1.37-1.37c-.4-.4-.92-.59-1.43-.59-.52 0-1.04.2-1.43.59L10.3 9.45l-7.72 7.72c-.78.78-.78 2.05 0 2.83L4 21.41c.39.39.9.59 1.41.59.51 0 1.02-.2 1.41-.59l7.78-7.78 2.81-2.81c.8-.78.8-2.07 0-2.86zM5.41 20L4 18.59l7.72-7.72 1.47 1.35L5.41 20z\"/>\n",
              "  </svg>\n",
              "      </button>\n",
              "      \n",
              "  <style>\n",
              "    .colab-df-container {\n",
              "      display:flex;\n",
              "      flex-wrap:wrap;\n",
              "      gap: 12px;\n",
              "    }\n",
              "\n",
              "    .colab-df-convert {\n",
              "      background-color: #E8F0FE;\n",
              "      border: none;\n",
              "      border-radius: 50%;\n",
              "      cursor: pointer;\n",
              "      display: none;\n",
              "      fill: #1967D2;\n",
              "      height: 32px;\n",
              "      padding: 0 0 0 0;\n",
              "      width: 32px;\n",
              "    }\n",
              "\n",
              "    .colab-df-convert:hover {\n",
              "      background-color: #E2EBFA;\n",
              "      box-shadow: 0px 1px 2px rgba(60, 64, 67, 0.3), 0px 1px 3px 1px rgba(60, 64, 67, 0.15);\n",
              "      fill: #174EA6;\n",
              "    }\n",
              "\n",
              "    [theme=dark] .colab-df-convert {\n",
              "      background-color: #3B4455;\n",
              "      fill: #D2E3FC;\n",
              "    }\n",
              "\n",
              "    [theme=dark] .colab-df-convert:hover {\n",
              "      background-color: #434B5C;\n",
              "      box-shadow: 0px 1px 3px 1px rgba(0, 0, 0, 0.15);\n",
              "      filter: drop-shadow(0px 1px 2px rgba(0, 0, 0, 0.3));\n",
              "      fill: #FFFFFF;\n",
              "    }\n",
              "  </style>\n",
              "\n",
              "      <script>\n",
              "        const buttonEl =\n",
              "          document.querySelector('#df-584ff64e-15a4-4b91-a832-b21889d9b8c6 button.colab-df-convert');\n",
              "        buttonEl.style.display =\n",
              "          google.colab.kernel.accessAllowed ? 'block' : 'none';\n",
              "\n",
              "        async function convertToInteractive(key) {\n",
              "          const element = document.querySelector('#df-584ff64e-15a4-4b91-a832-b21889d9b8c6');\n",
              "          const dataTable =\n",
              "            await google.colab.kernel.invokeFunction('convertToInteractive',\n",
              "                                                     [key], {});\n",
              "          if (!dataTable) return;\n",
              "\n",
              "          const docLinkHtml = 'Like what you see? Visit the ' +\n",
              "            '<a target=\"_blank\" href=https://colab.research.google.com/notebooks/data_table.ipynb>data table notebook</a>'\n",
              "            + ' to learn more about interactive tables.';\n",
              "          element.innerHTML = '';\n",
              "          dataTable['output_type'] = 'display_data';\n",
              "          await google.colab.output.renderOutput(dataTable, element);\n",
              "          const docLink = document.createElement('div');\n",
              "          docLink.innerHTML = docLinkHtml;\n",
              "          element.appendChild(docLink);\n",
              "        }\n",
              "      </script>\n",
              "    </div>\n",
              "  </div>\n",
              "  "
            ]
          },
          "metadata": {},
          "execution_count": 118
        }
      ]
    },
    {
      "cell_type": "code",
      "metadata": {
        "id": "AK7y336xJ3-6",
        "colab": {
          "base_uri": "https://localhost:8080/"
        },
        "outputId": "535cdd35-dcc8-477a-9679-2a369abe7462"
      },
      "source": [
        "#look at the datatypes\n",
        "df.info()"
      ],
      "execution_count": null,
      "outputs": [
        {
          "output_type": "stream",
          "name": "stdout",
          "text": [
            "<class 'pandas.core.frame.DataFrame'>\n",
            "RangeIndex: 218196 entries, 0 to 218195\n",
            "Data columns (total 10 columns):\n",
            " #   Column                       Non-Null Count   Dtype \n",
            "---  ------                       --------------   ----- \n",
            " 0   \"State Name\"                 218196 non-null  object\n",
            " 1   \"county Name\"                218196 non-null  object\n",
            " 2   \"State Code\"                 218196 non-null  object\n",
            " 3   \"County Code\"                218196 non-null  object\n",
            " 4   \"Date\"                       218196 non-null  object\n",
            " 5   \"AQI\"                        218196 non-null  int64 \n",
            " 6   \"Category\"                   218196 non-null  object\n",
            " 7   \"Defining Parameter\"         218196 non-null  object\n",
            " 8   \"Defining Site\"              218196 non-null  object\n",
            " 9   \"Number of Sites Reporting\"  218196 non-null  int64 \n",
            "dtypes: int64(2), object(8)\n",
            "memory usage: 16.6+ MB\n"
          ]
        }
      ]
    },
    {
      "cell_type": "code",
      "metadata": {
        "id": "udYgkb6I3SJo",
        "colab": {
          "base_uri": "https://localhost:8080/",
          "height": 300
        },
        "outputId": "e5e6fb58-6e96-47bb-c09f-03dbce668917"
      },
      "source": [
        "#describe the data before cleaning it\n",
        "df.describe()"
      ],
      "execution_count": null,
      "outputs": [
        {
          "output_type": "execute_result",
          "data": {
            "text/plain": [
              "               \"AQI\"  \"Number of Sites Reporting\"\n",
              "count  218196.000000                218196.000000\n",
              "mean       39.584250                     1.924220\n",
              "std        21.547055                     2.251967\n",
              "min         0.000000                     1.000000\n",
              "25%        29.000000                     1.000000\n",
              "50%        38.000000                     1.000000\n",
              "75%        47.000000                     2.000000\n",
              "max      2723.000000                    34.000000"
            ],
            "text/html": [
              "\n",
              "  <div id=\"df-8e53c914-d94f-4a48-8bb6-cb5e63db4fc4\">\n",
              "    <div class=\"colab-df-container\">\n",
              "      <div>\n",
              "<style scoped>\n",
              "    .dataframe tbody tr th:only-of-type {\n",
              "        vertical-align: middle;\n",
              "    }\n",
              "\n",
              "    .dataframe tbody tr th {\n",
              "        vertical-align: top;\n",
              "    }\n",
              "\n",
              "    .dataframe thead th {\n",
              "        text-align: right;\n",
              "    }\n",
              "</style>\n",
              "<table border=\"1\" class=\"dataframe\">\n",
              "  <thead>\n",
              "    <tr style=\"text-align: right;\">\n",
              "      <th></th>\n",
              "      <th>\"AQI\"</th>\n",
              "      <th>\"Number of Sites Reporting\"</th>\n",
              "    </tr>\n",
              "  </thead>\n",
              "  <tbody>\n",
              "    <tr>\n",
              "      <th>count</th>\n",
              "      <td>218196.000000</td>\n",
              "      <td>218196.000000</td>\n",
              "    </tr>\n",
              "    <tr>\n",
              "      <th>mean</th>\n",
              "      <td>39.584250</td>\n",
              "      <td>1.924220</td>\n",
              "    </tr>\n",
              "    <tr>\n",
              "      <th>std</th>\n",
              "      <td>21.547055</td>\n",
              "      <td>2.251967</td>\n",
              "    </tr>\n",
              "    <tr>\n",
              "      <th>min</th>\n",
              "      <td>0.000000</td>\n",
              "      <td>1.000000</td>\n",
              "    </tr>\n",
              "    <tr>\n",
              "      <th>25%</th>\n",
              "      <td>29.000000</td>\n",
              "      <td>1.000000</td>\n",
              "    </tr>\n",
              "    <tr>\n",
              "      <th>50%</th>\n",
              "      <td>38.000000</td>\n",
              "      <td>1.000000</td>\n",
              "    </tr>\n",
              "    <tr>\n",
              "      <th>75%</th>\n",
              "      <td>47.000000</td>\n",
              "      <td>2.000000</td>\n",
              "    </tr>\n",
              "    <tr>\n",
              "      <th>max</th>\n",
              "      <td>2723.000000</td>\n",
              "      <td>34.000000</td>\n",
              "    </tr>\n",
              "  </tbody>\n",
              "</table>\n",
              "</div>\n",
              "      <button class=\"colab-df-convert\" onclick=\"convertToInteractive('df-8e53c914-d94f-4a48-8bb6-cb5e63db4fc4')\"\n",
              "              title=\"Convert this dataframe to an interactive table.\"\n",
              "              style=\"display:none;\">\n",
              "        \n",
              "  <svg xmlns=\"http://www.w3.org/2000/svg\" height=\"24px\"viewBox=\"0 0 24 24\"\n",
              "       width=\"24px\">\n",
              "    <path d=\"M0 0h24v24H0V0z\" fill=\"none\"/>\n",
              "    <path d=\"M18.56 5.44l.94 2.06.94-2.06 2.06-.94-2.06-.94-.94-2.06-.94 2.06-2.06.94zm-11 1L8.5 8.5l.94-2.06 2.06-.94-2.06-.94L8.5 2.5l-.94 2.06-2.06.94zm10 10l.94 2.06.94-2.06 2.06-.94-2.06-.94-.94-2.06-.94 2.06-2.06.94z\"/><path d=\"M17.41 7.96l-1.37-1.37c-.4-.4-.92-.59-1.43-.59-.52 0-1.04.2-1.43.59L10.3 9.45l-7.72 7.72c-.78.78-.78 2.05 0 2.83L4 21.41c.39.39.9.59 1.41.59.51 0 1.02-.2 1.41-.59l7.78-7.78 2.81-2.81c.8-.78.8-2.07 0-2.86zM5.41 20L4 18.59l7.72-7.72 1.47 1.35L5.41 20z\"/>\n",
              "  </svg>\n",
              "      </button>\n",
              "      \n",
              "  <style>\n",
              "    .colab-df-container {\n",
              "      display:flex;\n",
              "      flex-wrap:wrap;\n",
              "      gap: 12px;\n",
              "    }\n",
              "\n",
              "    .colab-df-convert {\n",
              "      background-color: #E8F0FE;\n",
              "      border: none;\n",
              "      border-radius: 50%;\n",
              "      cursor: pointer;\n",
              "      display: none;\n",
              "      fill: #1967D2;\n",
              "      height: 32px;\n",
              "      padding: 0 0 0 0;\n",
              "      width: 32px;\n",
              "    }\n",
              "\n",
              "    .colab-df-convert:hover {\n",
              "      background-color: #E2EBFA;\n",
              "      box-shadow: 0px 1px 2px rgba(60, 64, 67, 0.3), 0px 1px 3px 1px rgba(60, 64, 67, 0.15);\n",
              "      fill: #174EA6;\n",
              "    }\n",
              "\n",
              "    [theme=dark] .colab-df-convert {\n",
              "      background-color: #3B4455;\n",
              "      fill: #D2E3FC;\n",
              "    }\n",
              "\n",
              "    [theme=dark] .colab-df-convert:hover {\n",
              "      background-color: #434B5C;\n",
              "      box-shadow: 0px 1px 3px 1px rgba(0, 0, 0, 0.15);\n",
              "      filter: drop-shadow(0px 1px 2px rgba(0, 0, 0, 0.3));\n",
              "      fill: #FFFFFF;\n",
              "    }\n",
              "  </style>\n",
              "\n",
              "      <script>\n",
              "        const buttonEl =\n",
              "          document.querySelector('#df-8e53c914-d94f-4a48-8bb6-cb5e63db4fc4 button.colab-df-convert');\n",
              "        buttonEl.style.display =\n",
              "          google.colab.kernel.accessAllowed ? 'block' : 'none';\n",
              "\n",
              "        async function convertToInteractive(key) {\n",
              "          const element = document.querySelector('#df-8e53c914-d94f-4a48-8bb6-cb5e63db4fc4');\n",
              "          const dataTable =\n",
              "            await google.colab.kernel.invokeFunction('convertToInteractive',\n",
              "                                                     [key], {});\n",
              "          if (!dataTable) return;\n",
              "\n",
              "          const docLinkHtml = 'Like what you see? Visit the ' +\n",
              "            '<a target=\"_blank\" href=https://colab.research.google.com/notebooks/data_table.ipynb>data table notebook</a>'\n",
              "            + ' to learn more about interactive tables.';\n",
              "          element.innerHTML = '';\n",
              "          dataTable['output_type'] = 'display_data';\n",
              "          await google.colab.output.renderOutput(dataTable, element);\n",
              "          const docLink = document.createElement('div');\n",
              "          docLink.innerHTML = docLinkHtml;\n",
              "          element.appendChild(docLink);\n",
              "        }\n",
              "      </script>\n",
              "    </div>\n",
              "  </div>\n",
              "  "
            ]
          },
          "metadata": {},
          "execution_count": 121
        }
      ]
    },
    {
      "cell_type": "markdown",
      "metadata": {
        "id": "BtxOWvFlKzgE"
      },
      "source": [
        "## Clean up the data\n",
        "Did you notice anything unusual about the \"house\" amounts? \n",
        "\n",
        "How about the handset price and income?\n",
        "\n",
        "Clean up the data in a  new datafram named \"df_clean\"\n"
      ]
    },
    {
      "cell_type": "code",
      "metadata": {
        "id": "7KXLvMcBK8Za",
        "colab": {
          "base_uri": "https://localhost:8080/",
          "height": 300
        },
        "outputId": "404fd79d-08a7-4489-9bd8-3d83078b4cab"
      },
      "source": [
        "#delete rows with outlier data; put it in a new dataframe\n",
        "df_clean = df[(df['\"State Name\"'] == '\"Indiana\"')]\n",
        "\n",
        "#delete any rows with missing values in the clean dataframe\n",
        "df_clean = df_clean.dropna() \n",
        "\n",
        "df_clean.describe()"
      ],
      "execution_count": null,
      "outputs": [
        {
          "output_type": "execute_result",
          "data": {
            "text/plain": [
              "             \"AQI\"  \"Number of Sites Reporting\"\n",
              "count  9051.000000                  9051.000000\n",
              "mean     39.858358                     1.728759\n",
              "std      17.000073                     1.197378\n",
              "min       0.000000                     1.000000\n",
              "25%      31.000000                     1.000000\n",
              "50%      38.000000                     1.000000\n",
              "75%      47.000000                     2.000000\n",
              "max     169.000000                     7.000000"
            ],
            "text/html": [
              "\n",
              "  <div id=\"df-e88eac75-cbf7-4178-a2a4-82e8fe187ca2\">\n",
              "    <div class=\"colab-df-container\">\n",
              "      <div>\n",
              "<style scoped>\n",
              "    .dataframe tbody tr th:only-of-type {\n",
              "        vertical-align: middle;\n",
              "    }\n",
              "\n",
              "    .dataframe tbody tr th {\n",
              "        vertical-align: top;\n",
              "    }\n",
              "\n",
              "    .dataframe thead th {\n",
              "        text-align: right;\n",
              "    }\n",
              "</style>\n",
              "<table border=\"1\" class=\"dataframe\">\n",
              "  <thead>\n",
              "    <tr style=\"text-align: right;\">\n",
              "      <th></th>\n",
              "      <th>\"AQI\"</th>\n",
              "      <th>\"Number of Sites Reporting\"</th>\n",
              "    </tr>\n",
              "  </thead>\n",
              "  <tbody>\n",
              "    <tr>\n",
              "      <th>count</th>\n",
              "      <td>9051.000000</td>\n",
              "      <td>9051.000000</td>\n",
              "    </tr>\n",
              "    <tr>\n",
              "      <th>mean</th>\n",
              "      <td>39.858358</td>\n",
              "      <td>1.728759</td>\n",
              "    </tr>\n",
              "    <tr>\n",
              "      <th>std</th>\n",
              "      <td>17.000073</td>\n",
              "      <td>1.197378</td>\n",
              "    </tr>\n",
              "    <tr>\n",
              "      <th>min</th>\n",
              "      <td>0.000000</td>\n",
              "      <td>1.000000</td>\n",
              "    </tr>\n",
              "    <tr>\n",
              "      <th>25%</th>\n",
              "      <td>31.000000</td>\n",
              "      <td>1.000000</td>\n",
              "    </tr>\n",
              "    <tr>\n",
              "      <th>50%</th>\n",
              "      <td>38.000000</td>\n",
              "      <td>1.000000</td>\n",
              "    </tr>\n",
              "    <tr>\n",
              "      <th>75%</th>\n",
              "      <td>47.000000</td>\n",
              "      <td>2.000000</td>\n",
              "    </tr>\n",
              "    <tr>\n",
              "      <th>max</th>\n",
              "      <td>169.000000</td>\n",
              "      <td>7.000000</td>\n",
              "    </tr>\n",
              "  </tbody>\n",
              "</table>\n",
              "</div>\n",
              "      <button class=\"colab-df-convert\" onclick=\"convertToInteractive('df-e88eac75-cbf7-4178-a2a4-82e8fe187ca2')\"\n",
              "              title=\"Convert this dataframe to an interactive table.\"\n",
              "              style=\"display:none;\">\n",
              "        \n",
              "  <svg xmlns=\"http://www.w3.org/2000/svg\" height=\"24px\"viewBox=\"0 0 24 24\"\n",
              "       width=\"24px\">\n",
              "    <path d=\"M0 0h24v24H0V0z\" fill=\"none\"/>\n",
              "    <path d=\"M18.56 5.44l.94 2.06.94-2.06 2.06-.94-2.06-.94-.94-2.06-.94 2.06-2.06.94zm-11 1L8.5 8.5l.94-2.06 2.06-.94-2.06-.94L8.5 2.5l-.94 2.06-2.06.94zm10 10l.94 2.06.94-2.06 2.06-.94-2.06-.94-.94-2.06-.94 2.06-2.06.94z\"/><path d=\"M17.41 7.96l-1.37-1.37c-.4-.4-.92-.59-1.43-.59-.52 0-1.04.2-1.43.59L10.3 9.45l-7.72 7.72c-.78.78-.78 2.05 0 2.83L4 21.41c.39.39.9.59 1.41.59.51 0 1.02-.2 1.41-.59l7.78-7.78 2.81-2.81c.8-.78.8-2.07 0-2.86zM5.41 20L4 18.59l7.72-7.72 1.47 1.35L5.41 20z\"/>\n",
              "  </svg>\n",
              "      </button>\n",
              "      \n",
              "  <style>\n",
              "    .colab-df-container {\n",
              "      display:flex;\n",
              "      flex-wrap:wrap;\n",
              "      gap: 12px;\n",
              "    }\n",
              "\n",
              "    .colab-df-convert {\n",
              "      background-color: #E8F0FE;\n",
              "      border: none;\n",
              "      border-radius: 50%;\n",
              "      cursor: pointer;\n",
              "      display: none;\n",
              "      fill: #1967D2;\n",
              "      height: 32px;\n",
              "      padding: 0 0 0 0;\n",
              "      width: 32px;\n",
              "    }\n",
              "\n",
              "    .colab-df-convert:hover {\n",
              "      background-color: #E2EBFA;\n",
              "      box-shadow: 0px 1px 2px rgba(60, 64, 67, 0.3), 0px 1px 3px 1px rgba(60, 64, 67, 0.15);\n",
              "      fill: #174EA6;\n",
              "    }\n",
              "\n",
              "    [theme=dark] .colab-df-convert {\n",
              "      background-color: #3B4455;\n",
              "      fill: #D2E3FC;\n",
              "    }\n",
              "\n",
              "    [theme=dark] .colab-df-convert:hover {\n",
              "      background-color: #434B5C;\n",
              "      box-shadow: 0px 1px 3px 1px rgba(0, 0, 0, 0.15);\n",
              "      filter: drop-shadow(0px 1px 2px rgba(0, 0, 0, 0.3));\n",
              "      fill: #FFFFFF;\n",
              "    }\n",
              "  </style>\n",
              "\n",
              "      <script>\n",
              "        const buttonEl =\n",
              "          document.querySelector('#df-e88eac75-cbf7-4178-a2a4-82e8fe187ca2 button.colab-df-convert');\n",
              "        buttonEl.style.display =\n",
              "          google.colab.kernel.accessAllowed ? 'block' : 'none';\n",
              "\n",
              "        async function convertToInteractive(key) {\n",
              "          const element = document.querySelector('#df-e88eac75-cbf7-4178-a2a4-82e8fe187ca2');\n",
              "          const dataTable =\n",
              "            await google.colab.kernel.invokeFunction('convertToInteractive',\n",
              "                                                     [key], {});\n",
              "          if (!dataTable) return;\n",
              "\n",
              "          const docLinkHtml = 'Like what you see? Visit the ' +\n",
              "            '<a target=\"_blank\" href=https://colab.research.google.com/notebooks/data_table.ipynb>data table notebook</a>'\n",
              "            + ' to learn more about interactive tables.';\n",
              "          element.innerHTML = '';\n",
              "          dataTable['output_type'] = 'display_data';\n",
              "          await google.colab.output.renderOutput(dataTable, element);\n",
              "          const docLink = document.createElement('div');\n",
              "          docLink.innerHTML = docLinkHtml;\n",
              "          element.appendChild(docLink);\n",
              "        }\n",
              "      </script>\n",
              "    </div>\n",
              "  </div>\n",
              "  "
            ]
          },
          "metadata": {},
          "execution_count": 128
        }
      ]
    },
    {
      "cell_type": "markdown",
      "metadata": {
        "id": "Zp7wGDqJ4iuL"
      },
      "source": [
        "# Standardize attributes\n",
        "\n",
        "- Convert the \"college\" and \"considering_change_of_plan\" attributes to 0 or 1\n",
        "- Convert non-numeric attributes to numeric scale of 1-3\n"
      ]
    },
    {
      "cell_type": "code",
      "source": [
        "#Get distinct values\n",
        "df_clean['\"State Name\"'].unique() "
      ],
      "metadata": {
        "id": "xNDR1xg5dVzm",
        "colab": {
          "base_uri": "https://localhost:8080/"
        },
        "outputId": "79f2b332-f49e-408b-c321-f412e1550206"
      },
      "execution_count": null,
      "outputs": [
        {
          "output_type": "execute_result",
          "data": {
            "text/plain": [
              "array(['\"Indiana\"'], dtype=object)"
            ]
          },
          "metadata": {},
          "execution_count": 129
        }
      ]
    },
    {
      "cell_type": "code",
      "source": [
        "df_clean['\"county Name\"'] .unique()"
      ],
      "metadata": {
        "id": "cw6i_45td0JC",
        "colab": {
          "base_uri": "https://localhost:8080/"
        },
        "outputId": "9ed03181-f406-4866-e1ba-ecac9b698a89"
      },
      "execution_count": null,
      "outputs": [
        {
          "output_type": "execute_result",
          "data": {
            "text/plain": [
              "array(['\"Allen\"', '\"Bartholomew\"', '\"Boone\"', '\"Brown\"', '\"Carroll\"',\n",
              "       '\"Clark\"', '\"Daviess\"', '\"Delaware\"', '\"Dubois\"', '\"Elkhart\"',\n",
              "       '\"Floyd\"', '\"Gibson\"', '\"Greene\"', '\"Hamilton\"', '\"Hendricks\"',\n",
              "       '\"Henry\"', '\"Howard\"', '\"Knox\"', '\"LaPorte\"', '\"Lake\"',\n",
              "       '\"Madison\"', '\"Marion\"', '\"Monroe\"', '\"Perry\"', '\"Porter\"',\n",
              "       '\"Posey\"', '\"Shelby\"', '\"Spencer\"', '\"St. Joseph\"', '\"Tippecanoe\"',\n",
              "       '\"Vanderburgh\"', '\"Vigo\"', '\"Wabash\"', '\"Warrick\"', '\"Whitley\"'],\n",
              "      dtype=object)"
            ]
          },
          "metadata": {},
          "execution_count": 130
        }
      ]
    },
    {
      "cell_type": "code",
      "source": [
        "df_clean['\"Category\"'].unique()"
      ],
      "metadata": {
        "id": "YhFAu2W4dz_6",
        "colab": {
          "base_uri": "https://localhost:8080/"
        },
        "outputId": "b69d32c1-8fde-4f25-f589-cec9564fd288"
      },
      "execution_count": null,
      "outputs": [
        {
          "output_type": "execute_result",
          "data": {
            "text/plain": [
              "array(['\"Good\"', '\"Moderate\"', '\"Unhealthy for Sensitive Groups\"',\n",
              "       '\"Unhealthy\"'], dtype=object)"
            ]
          },
          "metadata": {},
          "execution_count": 131
        }
      ]
    },
    {
      "cell_type": "code",
      "source": [
        "df_clean['\"Defining Parameter\"'].unique()"
      ],
      "metadata": {
        "colab": {
          "base_uri": "https://localhost:8080/"
        },
        "id": "l71A4-jSVRjQ",
        "outputId": "2daaa3ca-aa03-41e6-c386-59a4b25b5f2c"
      },
      "execution_count": null,
      "outputs": [
        {
          "output_type": "execute_result",
          "data": {
            "text/plain": [
              "array(['\"PM2.5\"', '\"Ozone\"', '\"SO2\"', '\"PM10\"', '\"NO2\"', '\"CO\"'],\n",
              "      dtype=object)"
            ]
          },
          "metadata": {},
          "execution_count": 133
        }
      ]
    },
    {
      "cell_type": "code",
      "source": [
        "df_clean.loc[df_clean['\"Category\"'] == '\"Good\"', '\"Category\"'] = \"4\"\n",
        "df_clean.loc[df_clean['\"Category\"'] == '\"Moderate\"', '\"Category\"'] = \"3\"\n",
        "df_clean.loc[df_clean['\"Category\"'] == '\"Unhealthy for Sensitive Groups\"', '\"Category\"'] = \"2\"\n",
        "df_clean.loc[df_clean['\"Category\"'] == '\"Unhealthy\"', '\"Category\"'] = \"1\"\n",
        "\n",
        "\n",
        "df_clean.loc[df_clean['\"Defining Parameter\"'] == '\"PM2.5\"', '\"PM2.5\"'] = \"1\"\n",
        "df_clean.loc[df_clean['\"Defining Parameter\"'] != '\"PM2.5\"', '\"PM2.5\"'] = \"0\"\n",
        "\n",
        "df_clean.loc[df_clean['\"Defining Parameter\"'] == '\"Ozone\"', '\"Ozone\"'] = \"1\"\n",
        "df_clean.loc[df_clean['\"Defining Parameter\"'] != '\"Ozone\"', '\"Ozone\"'] = \"0\"\n",
        "\n",
        "df_clean.loc[df_clean['\"Defining Parameter\"'] == '\"SO2\"', '\"SO2\"'] = \"1\"\n",
        "df_clean.loc[df_clean['\"Defining Parameter\"'] != '\"SO2\"', '\"SO2\"'] = \"0\"\n",
        "\n",
        "df_clean.loc[df_clean['\"Defining Parameter\"'] == '\"PM10\"', '\"PM10\"'] = \"1\"\n",
        "df_clean.loc[df_clean['\"Defining Parameter\"'] != '\"PM10\"', '\"PM10\"'] = \"0\"\n",
        "\n",
        "df_clean.loc[df_clean['\"Defining Parameter\"'] == '\"NO2\"', '\"NO2\"'] = \"1\"\n",
        "df_clean.loc[df_clean['\"Defining Parameter\"'] != '\"NO2\"', '\"NO2\"'] = \"0\"\n",
        "\n",
        "df_clean.loc[df_clean['\"Defining Parameter\"'] == '\"CO\"', '\"CO\"'] = \"1\"\n",
        "df_clean.loc[df_clean['\"Defining Parameter\"'] != '\"CO\"', '\"CO\"'] = \"0\"\n",
        "\n",
        "df_clean['\"Category\"'] = df_clean['\"Category\"'].astype('int')\n",
        "\n",
        "df_clean['\"PM2.5\"'] = df_clean['\"PM2.5\"'].astype('int') \n",
        "df_clean['\"Ozone\"'] = df_clean['\"Ozone\"'].astype('int') \n",
        "df_clean['\"SO2\"'] = df_clean['\"SO2\"'].astype('int')\n",
        "df_clean['\"PM10\"'] = df_clean['\"PM10\"'].astype('int')\n",
        "df_clean['\"NO2\"'] = df_clean['\"NO2\"'].astype('int')\n",
        "df_clean['\"CO\"'] = df_clean['\"CO\"'].astype('int')\n",
        "\n",
        "\n",
        "df_clean.head(10) "
      ],
      "metadata": {
        "colab": {
          "base_uri": "https://localhost:8080/",
          "height": 635
        },
        "id": "QEDnfnULcIMZ",
        "outputId": "4a36fbdc-b971-48fe-c0f7-aae1379c9735"
      },
      "execution_count": null,
      "outputs": [
        {
          "output_type": "execute_result",
          "data": {
            "text/plain": [
              "      \"State Name\" \"county Name\" \"State Code\" \"County Code\"        \"Date\"  \\\n",
              "54477    \"Indiana\"       \"Allen\"         \"18\"         \"003\"  \"2021-01-01\"   \n",
              "54478    \"Indiana\"       \"Allen\"         \"18\"         \"003\"  \"2021-01-02\"   \n",
              "54479    \"Indiana\"       \"Allen\"         \"18\"         \"003\"  \"2021-01-03\"   \n",
              "54480    \"Indiana\"       \"Allen\"         \"18\"         \"003\"  \"2021-01-04\"   \n",
              "54481    \"Indiana\"       \"Allen\"         \"18\"         \"003\"  \"2021-01-05\"   \n",
              "54482    \"Indiana\"       \"Allen\"         \"18\"         \"003\"  \"2021-01-06\"   \n",
              "54483    \"Indiana\"       \"Allen\"         \"18\"         \"003\"  \"2021-01-07\"   \n",
              "54484    \"Indiana\"       \"Allen\"         \"18\"         \"003\"  \"2021-01-08\"   \n",
              "54485    \"Indiana\"       \"Allen\"         \"18\"         \"003\"  \"2021-01-09\"   \n",
              "54486    \"Indiana\"       \"Allen\"         \"18\"         \"003\"  \"2021-01-10\"   \n",
              "\n",
              "       \"AQI\"  \"Category\" \"Defining Parameter\" \"Defining Site\"  \\\n",
              "54477     29           4              \"PM2.5\"   \"18-003-0004\"   \n",
              "54478     20           4              \"Ozone\"   \"18-003-0002\"   \n",
              "54479     22           4              \"PM2.5\"   \"18-003-0004\"   \n",
              "54480     31           4              \"PM2.5\"   \"18-003-0004\"   \n",
              "54481     43           4              \"PM2.5\"   \"18-003-0004\"   \n",
              "54482     26           4              \"Ozone\"   \"18-003-0002\"   \n",
              "54483     27           4              \"Ozone\"   \"18-003-0002\"   \n",
              "54484     28           4              \"Ozone\"   \"18-003-0002\"   \n",
              "54485     30           4              \"Ozone\"   \"18-003-0004\"   \n",
              "54486     58           3              \"PM2.5\"   \"18-003-0004\"   \n",
              "\n",
              "       \"Number of Sites Reporting\"  \"PM2.5\"  \"Ozone\"  \"SO2\"  \"PM10\"  \"NO2\"  \\\n",
              "54477                            2        1        0      0       0      0   \n",
              "54478                            2        0        1      0       0      0   \n",
              "54479                            2        1        0      0       0      0   \n",
              "54480                            2        1        0      0       0      0   \n",
              "54481                            2        1        0      0       0      0   \n",
              "54482                            2        0        1      0       0      0   \n",
              "54483                            2        0        1      0       0      0   \n",
              "54484                            2        0        1      0       0      0   \n",
              "54485                            2        0        1      0       0      0   \n",
              "54486                            2        1        0      0       0      0   \n",
              "\n",
              "       \"CO\"  \n",
              "54477     0  \n",
              "54478     0  \n",
              "54479     0  \n",
              "54480     0  \n",
              "54481     0  \n",
              "54482     0  \n",
              "54483     0  \n",
              "54484     0  \n",
              "54485     0  \n",
              "54486     0  "
            ],
            "text/html": [
              "\n",
              "  <div id=\"df-ce9e6307-f661-473e-a8ed-d8c2e09ea5cc\">\n",
              "    <div class=\"colab-df-container\">\n",
              "      <div>\n",
              "<style scoped>\n",
              "    .dataframe tbody tr th:only-of-type {\n",
              "        vertical-align: middle;\n",
              "    }\n",
              "\n",
              "    .dataframe tbody tr th {\n",
              "        vertical-align: top;\n",
              "    }\n",
              "\n",
              "    .dataframe thead th {\n",
              "        text-align: right;\n",
              "    }\n",
              "</style>\n",
              "<table border=\"1\" class=\"dataframe\">\n",
              "  <thead>\n",
              "    <tr style=\"text-align: right;\">\n",
              "      <th></th>\n",
              "      <th>\"State Name\"</th>\n",
              "      <th>\"county Name\"</th>\n",
              "      <th>\"State Code\"</th>\n",
              "      <th>\"County Code\"</th>\n",
              "      <th>\"Date\"</th>\n",
              "      <th>\"AQI\"</th>\n",
              "      <th>\"Category\"</th>\n",
              "      <th>\"Defining Parameter\"</th>\n",
              "      <th>\"Defining Site\"</th>\n",
              "      <th>\"Number of Sites Reporting\"</th>\n",
              "      <th>\"PM2.5\"</th>\n",
              "      <th>\"Ozone\"</th>\n",
              "      <th>\"SO2\"</th>\n",
              "      <th>\"PM10\"</th>\n",
              "      <th>\"NO2\"</th>\n",
              "      <th>\"CO\"</th>\n",
              "    </tr>\n",
              "  </thead>\n",
              "  <tbody>\n",
              "    <tr>\n",
              "      <th>54477</th>\n",
              "      <td>\"Indiana\"</td>\n",
              "      <td>\"Allen\"</td>\n",
              "      <td>\"18\"</td>\n",
              "      <td>\"003\"</td>\n",
              "      <td>\"2021-01-01\"</td>\n",
              "      <td>29</td>\n",
              "      <td>4</td>\n",
              "      <td>\"PM2.5\"</td>\n",
              "      <td>\"18-003-0004\"</td>\n",
              "      <td>2</td>\n",
              "      <td>1</td>\n",
              "      <td>0</td>\n",
              "      <td>0</td>\n",
              "      <td>0</td>\n",
              "      <td>0</td>\n",
              "      <td>0</td>\n",
              "    </tr>\n",
              "    <tr>\n",
              "      <th>54478</th>\n",
              "      <td>\"Indiana\"</td>\n",
              "      <td>\"Allen\"</td>\n",
              "      <td>\"18\"</td>\n",
              "      <td>\"003\"</td>\n",
              "      <td>\"2021-01-02\"</td>\n",
              "      <td>20</td>\n",
              "      <td>4</td>\n",
              "      <td>\"Ozone\"</td>\n",
              "      <td>\"18-003-0002\"</td>\n",
              "      <td>2</td>\n",
              "      <td>0</td>\n",
              "      <td>1</td>\n",
              "      <td>0</td>\n",
              "      <td>0</td>\n",
              "      <td>0</td>\n",
              "      <td>0</td>\n",
              "    </tr>\n",
              "    <tr>\n",
              "      <th>54479</th>\n",
              "      <td>\"Indiana\"</td>\n",
              "      <td>\"Allen\"</td>\n",
              "      <td>\"18\"</td>\n",
              "      <td>\"003\"</td>\n",
              "      <td>\"2021-01-03\"</td>\n",
              "      <td>22</td>\n",
              "      <td>4</td>\n",
              "      <td>\"PM2.5\"</td>\n",
              "      <td>\"18-003-0004\"</td>\n",
              "      <td>2</td>\n",
              "      <td>1</td>\n",
              "      <td>0</td>\n",
              "      <td>0</td>\n",
              "      <td>0</td>\n",
              "      <td>0</td>\n",
              "      <td>0</td>\n",
              "    </tr>\n",
              "    <tr>\n",
              "      <th>54480</th>\n",
              "      <td>\"Indiana\"</td>\n",
              "      <td>\"Allen\"</td>\n",
              "      <td>\"18\"</td>\n",
              "      <td>\"003\"</td>\n",
              "      <td>\"2021-01-04\"</td>\n",
              "      <td>31</td>\n",
              "      <td>4</td>\n",
              "      <td>\"PM2.5\"</td>\n",
              "      <td>\"18-003-0004\"</td>\n",
              "      <td>2</td>\n",
              "      <td>1</td>\n",
              "      <td>0</td>\n",
              "      <td>0</td>\n",
              "      <td>0</td>\n",
              "      <td>0</td>\n",
              "      <td>0</td>\n",
              "    </tr>\n",
              "    <tr>\n",
              "      <th>54481</th>\n",
              "      <td>\"Indiana\"</td>\n",
              "      <td>\"Allen\"</td>\n",
              "      <td>\"18\"</td>\n",
              "      <td>\"003\"</td>\n",
              "      <td>\"2021-01-05\"</td>\n",
              "      <td>43</td>\n",
              "      <td>4</td>\n",
              "      <td>\"PM2.5\"</td>\n",
              "      <td>\"18-003-0004\"</td>\n",
              "      <td>2</td>\n",
              "      <td>1</td>\n",
              "      <td>0</td>\n",
              "      <td>0</td>\n",
              "      <td>0</td>\n",
              "      <td>0</td>\n",
              "      <td>0</td>\n",
              "    </tr>\n",
              "    <tr>\n",
              "      <th>54482</th>\n",
              "      <td>\"Indiana\"</td>\n",
              "      <td>\"Allen\"</td>\n",
              "      <td>\"18\"</td>\n",
              "      <td>\"003\"</td>\n",
              "      <td>\"2021-01-06\"</td>\n",
              "      <td>26</td>\n",
              "      <td>4</td>\n",
              "      <td>\"Ozone\"</td>\n",
              "      <td>\"18-003-0002\"</td>\n",
              "      <td>2</td>\n",
              "      <td>0</td>\n",
              "      <td>1</td>\n",
              "      <td>0</td>\n",
              "      <td>0</td>\n",
              "      <td>0</td>\n",
              "      <td>0</td>\n",
              "    </tr>\n",
              "    <tr>\n",
              "      <th>54483</th>\n",
              "      <td>\"Indiana\"</td>\n",
              "      <td>\"Allen\"</td>\n",
              "      <td>\"18\"</td>\n",
              "      <td>\"003\"</td>\n",
              "      <td>\"2021-01-07\"</td>\n",
              "      <td>27</td>\n",
              "      <td>4</td>\n",
              "      <td>\"Ozone\"</td>\n",
              "      <td>\"18-003-0002\"</td>\n",
              "      <td>2</td>\n",
              "      <td>0</td>\n",
              "      <td>1</td>\n",
              "      <td>0</td>\n",
              "      <td>0</td>\n",
              "      <td>0</td>\n",
              "      <td>0</td>\n",
              "    </tr>\n",
              "    <tr>\n",
              "      <th>54484</th>\n",
              "      <td>\"Indiana\"</td>\n",
              "      <td>\"Allen\"</td>\n",
              "      <td>\"18\"</td>\n",
              "      <td>\"003\"</td>\n",
              "      <td>\"2021-01-08\"</td>\n",
              "      <td>28</td>\n",
              "      <td>4</td>\n",
              "      <td>\"Ozone\"</td>\n",
              "      <td>\"18-003-0002\"</td>\n",
              "      <td>2</td>\n",
              "      <td>0</td>\n",
              "      <td>1</td>\n",
              "      <td>0</td>\n",
              "      <td>0</td>\n",
              "      <td>0</td>\n",
              "      <td>0</td>\n",
              "    </tr>\n",
              "    <tr>\n",
              "      <th>54485</th>\n",
              "      <td>\"Indiana\"</td>\n",
              "      <td>\"Allen\"</td>\n",
              "      <td>\"18\"</td>\n",
              "      <td>\"003\"</td>\n",
              "      <td>\"2021-01-09\"</td>\n",
              "      <td>30</td>\n",
              "      <td>4</td>\n",
              "      <td>\"Ozone\"</td>\n",
              "      <td>\"18-003-0004\"</td>\n",
              "      <td>2</td>\n",
              "      <td>0</td>\n",
              "      <td>1</td>\n",
              "      <td>0</td>\n",
              "      <td>0</td>\n",
              "      <td>0</td>\n",
              "      <td>0</td>\n",
              "    </tr>\n",
              "    <tr>\n",
              "      <th>54486</th>\n",
              "      <td>\"Indiana\"</td>\n",
              "      <td>\"Allen\"</td>\n",
              "      <td>\"18\"</td>\n",
              "      <td>\"003\"</td>\n",
              "      <td>\"2021-01-10\"</td>\n",
              "      <td>58</td>\n",
              "      <td>3</td>\n",
              "      <td>\"PM2.5\"</td>\n",
              "      <td>\"18-003-0004\"</td>\n",
              "      <td>2</td>\n",
              "      <td>1</td>\n",
              "      <td>0</td>\n",
              "      <td>0</td>\n",
              "      <td>0</td>\n",
              "      <td>0</td>\n",
              "      <td>0</td>\n",
              "    </tr>\n",
              "  </tbody>\n",
              "</table>\n",
              "</div>\n",
              "      <button class=\"colab-df-convert\" onclick=\"convertToInteractive('df-ce9e6307-f661-473e-a8ed-d8c2e09ea5cc')\"\n",
              "              title=\"Convert this dataframe to an interactive table.\"\n",
              "              style=\"display:none;\">\n",
              "        \n",
              "  <svg xmlns=\"http://www.w3.org/2000/svg\" height=\"24px\"viewBox=\"0 0 24 24\"\n",
              "       width=\"24px\">\n",
              "    <path d=\"M0 0h24v24H0V0z\" fill=\"none\"/>\n",
              "    <path d=\"M18.56 5.44l.94 2.06.94-2.06 2.06-.94-2.06-.94-.94-2.06-.94 2.06-2.06.94zm-11 1L8.5 8.5l.94-2.06 2.06-.94-2.06-.94L8.5 2.5l-.94 2.06-2.06.94zm10 10l.94 2.06.94-2.06 2.06-.94-2.06-.94-.94-2.06-.94 2.06-2.06.94z\"/><path d=\"M17.41 7.96l-1.37-1.37c-.4-.4-.92-.59-1.43-.59-.52 0-1.04.2-1.43.59L10.3 9.45l-7.72 7.72c-.78.78-.78 2.05 0 2.83L4 21.41c.39.39.9.59 1.41.59.51 0 1.02-.2 1.41-.59l7.78-7.78 2.81-2.81c.8-.78.8-2.07 0-2.86zM5.41 20L4 18.59l7.72-7.72 1.47 1.35L5.41 20z\"/>\n",
              "  </svg>\n",
              "      </button>\n",
              "      \n",
              "  <style>\n",
              "    .colab-df-container {\n",
              "      display:flex;\n",
              "      flex-wrap:wrap;\n",
              "      gap: 12px;\n",
              "    }\n",
              "\n",
              "    .colab-df-convert {\n",
              "      background-color: #E8F0FE;\n",
              "      border: none;\n",
              "      border-radius: 50%;\n",
              "      cursor: pointer;\n",
              "      display: none;\n",
              "      fill: #1967D2;\n",
              "      height: 32px;\n",
              "      padding: 0 0 0 0;\n",
              "      width: 32px;\n",
              "    }\n",
              "\n",
              "    .colab-df-convert:hover {\n",
              "      background-color: #E2EBFA;\n",
              "      box-shadow: 0px 1px 2px rgba(60, 64, 67, 0.3), 0px 1px 3px 1px rgba(60, 64, 67, 0.15);\n",
              "      fill: #174EA6;\n",
              "    }\n",
              "\n",
              "    [theme=dark] .colab-df-convert {\n",
              "      background-color: #3B4455;\n",
              "      fill: #D2E3FC;\n",
              "    }\n",
              "\n",
              "    [theme=dark] .colab-df-convert:hover {\n",
              "      background-color: #434B5C;\n",
              "      box-shadow: 0px 1px 3px 1px rgba(0, 0, 0, 0.15);\n",
              "      filter: drop-shadow(0px 1px 2px rgba(0, 0, 0, 0.3));\n",
              "      fill: #FFFFFF;\n",
              "    }\n",
              "  </style>\n",
              "\n",
              "      <script>\n",
              "        const buttonEl =\n",
              "          document.querySelector('#df-ce9e6307-f661-473e-a8ed-d8c2e09ea5cc button.colab-df-convert');\n",
              "        buttonEl.style.display =\n",
              "          google.colab.kernel.accessAllowed ? 'block' : 'none';\n",
              "\n",
              "        async function convertToInteractive(key) {\n",
              "          const element = document.querySelector('#df-ce9e6307-f661-473e-a8ed-d8c2e09ea5cc');\n",
              "          const dataTable =\n",
              "            await google.colab.kernel.invokeFunction('convertToInteractive',\n",
              "                                                     [key], {});\n",
              "          if (!dataTable) return;\n",
              "\n",
              "          const docLinkHtml = 'Like what you see? Visit the ' +\n",
              "            '<a target=\"_blank\" href=https://colab.research.google.com/notebooks/data_table.ipynb>data table notebook</a>'\n",
              "            + ' to learn more about interactive tables.';\n",
              "          element.innerHTML = '';\n",
              "          dataTable['output_type'] = 'display_data';\n",
              "          await google.colab.output.renderOutput(dataTable, element);\n",
              "          const docLink = document.createElement('div');\n",
              "          docLink.innerHTML = docLinkHtml;\n",
              "          element.appendChild(docLink);\n",
              "        }\n",
              "      </script>\n",
              "    </div>\n",
              "  </div>\n",
              "  "
            ]
          },
          "metadata": {},
          "execution_count": 135
        }
      ]
    },
    {
      "cell_type": "markdown",
      "metadata": {
        "id": "AuB0G9gJt7gn"
      },
      "source": [
        "# Convert attributes to factors\n",
        "\n",
        "- Leave\n",
        "- College\n",
        "- Reported satisfaction\n",
        "- Reported usage level\n",
        "- Considering change of plan"
      ]
    },
    {
      "cell_type": "markdown",
      "metadata": {
        "id": "uathUi6xfDPf"
      },
      "source": [
        "## Calculate distribution of the outcome  \n",
        "What is the proportion of people who churned?\n",
        "\n",
        "Why should we care about this proportion?\n",
        "\n",
        "1. An important step in EDA is to understand the distribution of the target variable.\n",
        "\n",
        "2. The majority class in the target variable will serve as an important benchmark for model performance. If we used what we'll call a \"majority class classifier\"---this consists in always predicting the majority class, which in this case is `STAY`---we would be correct 1 - .49 or 51% of the time.  Another way of saying this is that majority class classifier in the MegaTelCo case would result in accuracy of .51.  \n",
        "\n",
        "Accuracy is defined as the proportion of correctly predicted labels. It is a commonly used error metric for evaluating classifier performance.\n",
        "\n",
        "Think about why a majority class model in this case would have an accuracy of .51.\n",
        "\n",
        "Whatever later model we develop should have better accuracy than this performance benchmark."
      ]
    },
    {
      "cell_type": "code",
      "metadata": {
        "id": "bC93rEgNfFNh",
        "colab": {
          "base_uri": "https://localhost:8080/",
          "height": 392
        },
        "outputId": "2d4e69b4-8d1b-4fc4-9a43-88643c268782"
      },
      "source": [
        "df_clean.head(5)\n"
      ],
      "execution_count": null,
      "outputs": [
        {
          "output_type": "execute_result",
          "data": {
            "text/plain": [
              "      \"State Name\" \"county Name\" \"State Code\" \"County Code\"        \"Date\"  \\\n",
              "54477    \"Indiana\"       \"Allen\"         \"18\"         \"003\"  \"2021-01-01\"   \n",
              "54478    \"Indiana\"       \"Allen\"         \"18\"         \"003\"  \"2021-01-02\"   \n",
              "54479    \"Indiana\"       \"Allen\"         \"18\"         \"003\"  \"2021-01-03\"   \n",
              "54480    \"Indiana\"       \"Allen\"         \"18\"         \"003\"  \"2021-01-04\"   \n",
              "54481    \"Indiana\"       \"Allen\"         \"18\"         \"003\"  \"2021-01-05\"   \n",
              "\n",
              "       \"AQI\"  \"Category\" \"Defining Parameter\" \"Defining Site\"  \\\n",
              "54477     29           4              \"PM2.5\"   \"18-003-0004\"   \n",
              "54478     20           4              \"Ozone\"   \"18-003-0002\"   \n",
              "54479     22           4              \"PM2.5\"   \"18-003-0004\"   \n",
              "54480     31           4              \"PM2.5\"   \"18-003-0004\"   \n",
              "54481     43           4              \"PM2.5\"   \"18-003-0004\"   \n",
              "\n",
              "       \"Number of Sites Reporting\"  \"PM2.5\"  \"Ozone\"  \"SO2\"  \"PM10\"  \"NO2\"  \\\n",
              "54477                            2        1        0      0       0      0   \n",
              "54478                            2        0        1      0       0      0   \n",
              "54479                            2        1        0      0       0      0   \n",
              "54480                            2        1        0      0       0      0   \n",
              "54481                            2        1        0      0       0      0   \n",
              "\n",
              "       \"CO\"  \n",
              "54477     0  \n",
              "54478     0  \n",
              "54479     0  \n",
              "54480     0  \n",
              "54481     0  "
            ],
            "text/html": [
              "\n",
              "  <div id=\"df-6f3b7292-c49d-4a73-8e82-70a8fb3a8cae\">\n",
              "    <div class=\"colab-df-container\">\n",
              "      <div>\n",
              "<style scoped>\n",
              "    .dataframe tbody tr th:only-of-type {\n",
              "        vertical-align: middle;\n",
              "    }\n",
              "\n",
              "    .dataframe tbody tr th {\n",
              "        vertical-align: top;\n",
              "    }\n",
              "\n",
              "    .dataframe thead th {\n",
              "        text-align: right;\n",
              "    }\n",
              "</style>\n",
              "<table border=\"1\" class=\"dataframe\">\n",
              "  <thead>\n",
              "    <tr style=\"text-align: right;\">\n",
              "      <th></th>\n",
              "      <th>\"State Name\"</th>\n",
              "      <th>\"county Name\"</th>\n",
              "      <th>\"State Code\"</th>\n",
              "      <th>\"County Code\"</th>\n",
              "      <th>\"Date\"</th>\n",
              "      <th>\"AQI\"</th>\n",
              "      <th>\"Category\"</th>\n",
              "      <th>\"Defining Parameter\"</th>\n",
              "      <th>\"Defining Site\"</th>\n",
              "      <th>\"Number of Sites Reporting\"</th>\n",
              "      <th>\"PM2.5\"</th>\n",
              "      <th>\"Ozone\"</th>\n",
              "      <th>\"SO2\"</th>\n",
              "      <th>\"PM10\"</th>\n",
              "      <th>\"NO2\"</th>\n",
              "      <th>\"CO\"</th>\n",
              "    </tr>\n",
              "  </thead>\n",
              "  <tbody>\n",
              "    <tr>\n",
              "      <th>54477</th>\n",
              "      <td>\"Indiana\"</td>\n",
              "      <td>\"Allen\"</td>\n",
              "      <td>\"18\"</td>\n",
              "      <td>\"003\"</td>\n",
              "      <td>\"2021-01-01\"</td>\n",
              "      <td>29</td>\n",
              "      <td>4</td>\n",
              "      <td>\"PM2.5\"</td>\n",
              "      <td>\"18-003-0004\"</td>\n",
              "      <td>2</td>\n",
              "      <td>1</td>\n",
              "      <td>0</td>\n",
              "      <td>0</td>\n",
              "      <td>0</td>\n",
              "      <td>0</td>\n",
              "      <td>0</td>\n",
              "    </tr>\n",
              "    <tr>\n",
              "      <th>54478</th>\n",
              "      <td>\"Indiana\"</td>\n",
              "      <td>\"Allen\"</td>\n",
              "      <td>\"18\"</td>\n",
              "      <td>\"003\"</td>\n",
              "      <td>\"2021-01-02\"</td>\n",
              "      <td>20</td>\n",
              "      <td>4</td>\n",
              "      <td>\"Ozone\"</td>\n",
              "      <td>\"18-003-0002\"</td>\n",
              "      <td>2</td>\n",
              "      <td>0</td>\n",
              "      <td>1</td>\n",
              "      <td>0</td>\n",
              "      <td>0</td>\n",
              "      <td>0</td>\n",
              "      <td>0</td>\n",
              "    </tr>\n",
              "    <tr>\n",
              "      <th>54479</th>\n",
              "      <td>\"Indiana\"</td>\n",
              "      <td>\"Allen\"</td>\n",
              "      <td>\"18\"</td>\n",
              "      <td>\"003\"</td>\n",
              "      <td>\"2021-01-03\"</td>\n",
              "      <td>22</td>\n",
              "      <td>4</td>\n",
              "      <td>\"PM2.5\"</td>\n",
              "      <td>\"18-003-0004\"</td>\n",
              "      <td>2</td>\n",
              "      <td>1</td>\n",
              "      <td>0</td>\n",
              "      <td>0</td>\n",
              "      <td>0</td>\n",
              "      <td>0</td>\n",
              "      <td>0</td>\n",
              "    </tr>\n",
              "    <tr>\n",
              "      <th>54480</th>\n",
              "      <td>\"Indiana\"</td>\n",
              "      <td>\"Allen\"</td>\n",
              "      <td>\"18\"</td>\n",
              "      <td>\"003\"</td>\n",
              "      <td>\"2021-01-04\"</td>\n",
              "      <td>31</td>\n",
              "      <td>4</td>\n",
              "      <td>\"PM2.5\"</td>\n",
              "      <td>\"18-003-0004\"</td>\n",
              "      <td>2</td>\n",
              "      <td>1</td>\n",
              "      <td>0</td>\n",
              "      <td>0</td>\n",
              "      <td>0</td>\n",
              "      <td>0</td>\n",
              "      <td>0</td>\n",
              "    </tr>\n",
              "    <tr>\n",
              "      <th>54481</th>\n",
              "      <td>\"Indiana\"</td>\n",
              "      <td>\"Allen\"</td>\n",
              "      <td>\"18\"</td>\n",
              "      <td>\"003\"</td>\n",
              "      <td>\"2021-01-05\"</td>\n",
              "      <td>43</td>\n",
              "      <td>4</td>\n",
              "      <td>\"PM2.5\"</td>\n",
              "      <td>\"18-003-0004\"</td>\n",
              "      <td>2</td>\n",
              "      <td>1</td>\n",
              "      <td>0</td>\n",
              "      <td>0</td>\n",
              "      <td>0</td>\n",
              "      <td>0</td>\n",
              "      <td>0</td>\n",
              "    </tr>\n",
              "  </tbody>\n",
              "</table>\n",
              "</div>\n",
              "      <button class=\"colab-df-convert\" onclick=\"convertToInteractive('df-6f3b7292-c49d-4a73-8e82-70a8fb3a8cae')\"\n",
              "              title=\"Convert this dataframe to an interactive table.\"\n",
              "              style=\"display:none;\">\n",
              "        \n",
              "  <svg xmlns=\"http://www.w3.org/2000/svg\" height=\"24px\"viewBox=\"0 0 24 24\"\n",
              "       width=\"24px\">\n",
              "    <path d=\"M0 0h24v24H0V0z\" fill=\"none\"/>\n",
              "    <path d=\"M18.56 5.44l.94 2.06.94-2.06 2.06-.94-2.06-.94-.94-2.06-.94 2.06-2.06.94zm-11 1L8.5 8.5l.94-2.06 2.06-.94-2.06-.94L8.5 2.5l-.94 2.06-2.06.94zm10 10l.94 2.06.94-2.06 2.06-.94-2.06-.94-.94-2.06-.94 2.06-2.06.94z\"/><path d=\"M17.41 7.96l-1.37-1.37c-.4-.4-.92-.59-1.43-.59-.52 0-1.04.2-1.43.59L10.3 9.45l-7.72 7.72c-.78.78-.78 2.05 0 2.83L4 21.41c.39.39.9.59 1.41.59.51 0 1.02-.2 1.41-.59l7.78-7.78 2.81-2.81c.8-.78.8-2.07 0-2.86zM5.41 20L4 18.59l7.72-7.72 1.47 1.35L5.41 20z\"/>\n",
              "  </svg>\n",
              "      </button>\n",
              "      \n",
              "  <style>\n",
              "    .colab-df-container {\n",
              "      display:flex;\n",
              "      flex-wrap:wrap;\n",
              "      gap: 12px;\n",
              "    }\n",
              "\n",
              "    .colab-df-convert {\n",
              "      background-color: #E8F0FE;\n",
              "      border: none;\n",
              "      border-radius: 50%;\n",
              "      cursor: pointer;\n",
              "      display: none;\n",
              "      fill: #1967D2;\n",
              "      height: 32px;\n",
              "      padding: 0 0 0 0;\n",
              "      width: 32px;\n",
              "    }\n",
              "\n",
              "    .colab-df-convert:hover {\n",
              "      background-color: #E2EBFA;\n",
              "      box-shadow: 0px 1px 2px rgba(60, 64, 67, 0.3), 0px 1px 3px 1px rgba(60, 64, 67, 0.15);\n",
              "      fill: #174EA6;\n",
              "    }\n",
              "\n",
              "    [theme=dark] .colab-df-convert {\n",
              "      background-color: #3B4455;\n",
              "      fill: #D2E3FC;\n",
              "    }\n",
              "\n",
              "    [theme=dark] .colab-df-convert:hover {\n",
              "      background-color: #434B5C;\n",
              "      box-shadow: 0px 1px 3px 1px rgba(0, 0, 0, 0.15);\n",
              "      filter: drop-shadow(0px 1px 2px rgba(0, 0, 0, 0.3));\n",
              "      fill: #FFFFFF;\n",
              "    }\n",
              "  </style>\n",
              "\n",
              "      <script>\n",
              "        const buttonEl =\n",
              "          document.querySelector('#df-6f3b7292-c49d-4a73-8e82-70a8fb3a8cae button.colab-df-convert');\n",
              "        buttonEl.style.display =\n",
              "          google.colab.kernel.accessAllowed ? 'block' : 'none';\n",
              "\n",
              "        async function convertToInteractive(key) {\n",
              "          const element = document.querySelector('#df-6f3b7292-c49d-4a73-8e82-70a8fb3a8cae');\n",
              "          const dataTable =\n",
              "            await google.colab.kernel.invokeFunction('convertToInteractive',\n",
              "                                                     [key], {});\n",
              "          if (!dataTable) return;\n",
              "\n",
              "          const docLinkHtml = 'Like what you see? Visit the ' +\n",
              "            '<a target=\"_blank\" href=https://colab.research.google.com/notebooks/data_table.ipynb>data table notebook</a>'\n",
              "            + ' to learn more about interactive tables.';\n",
              "          element.innerHTML = '';\n",
              "          dataTable['output_type'] = 'display_data';\n",
              "          await google.colab.output.renderOutput(dataTable, element);\n",
              "          const docLink = document.createElement('div');\n",
              "          docLink.innerHTML = docLinkHtml;\n",
              "          element.appendChild(docLink);\n",
              "        }\n",
              "      </script>\n",
              "    </div>\n",
              "  </div>\n",
              "  "
            ]
          },
          "metadata": {},
          "execution_count": 142
        }
      ]
    },
    {
      "cell_type": "markdown",
      "metadata": {
        "id": "SoJLJMlceORN"
      },
      "source": [
        "## Fit a basic tree model\n",
        "\n",
        "Use just two variables, 'income' and 'house'. We'll call this the \"money tree.\" \n",
        "\n",
        "What is the accuracy of the money tree? "
      ]
    },
    {
      "cell_type": "code",
      "metadata": {
        "id": "WBH7aRXbOUf4"
      },
      "source": [
        "# split the datafram into independent (x) and dependent (predicted) attributes (y)\n",
        "x = df_clean[['\"AQI\"','\"Number of Sites Reporting\"','\"PM2.5\"','\"Ozone\"','\"SO2\"','\"PM10\"','\"NO2\"','\"CO\"']]\n",
        "y = df_clean['\"Category\"']\n",
        "\n",
        "category_tree = DecisionTreeClassifier()\n",
        "\n",
        "# Create Decision Tree Classifer\n",
        "category_tree = category_tree.fit(x,y)\n"
      ],
      "execution_count": null,
      "outputs": []
    },
    {
      "cell_type": "markdown",
      "source": [
        "## Preview the tree\n"
      ],
      "metadata": {
        "id": "x5n0jUSL8Nde"
      }
    },
    {
      "cell_type": "code",
      "source": [
        "category_tree_text = tree.export_text(category_tree)\n",
        "print(category_tree_text)"
      ],
      "metadata": {
        "id": "lUzUB50D8SHt",
        "colab": {
          "base_uri": "https://localhost:8080/"
        },
        "outputId": "72873410-d270-4081-e683-6e1588fbb239"
      },
      "execution_count": null,
      "outputs": [
        {
          "output_type": "stream",
          "name": "stdout",
          "text": [
            "|--- feature_0 <= 50.50\n",
            "|   |--- class: 4\n",
            "|--- feature_0 >  50.50\n",
            "|   |--- feature_0 <= 100.50\n",
            "|   |   |--- class: 3\n",
            "|   |--- feature_0 >  100.50\n",
            "|   |   |--- feature_0 <= 156.00\n",
            "|   |   |   |--- class: 2\n",
            "|   |   |--- feature_0 >  156.00\n",
            "|   |   |   |--- class: 1\n",
            "\n"
          ]
        }
      ]
    },
    {
      "cell_type": "markdown",
      "source": [
        "## Check Accuracy\n",
        "\n",
        "What is the accuracy of the money_tree? Use these steps to calculate accuracy.\n",
        "\n",
        "Is this over fitted?"
      ],
      "metadata": {
        "id": "sSNfQKZA3jg2"
      }
    },
    {
      "cell_type": "code",
      "metadata": {
        "id": "eVOSIP8SeYg3",
        "colab": {
          "base_uri": "https://localhost:8080/"
        },
        "outputId": "b5dd2338-11d0-460c-96b3-062400b50de9"
      },
      "source": [
        "pred = category_tree.predict(x)\n",
        "\n",
        "#print(pred)\n",
        "\n",
        "print(\"Accuracy:\",metrics.accuracy_score(y, pred))"
      ],
      "execution_count": null,
      "outputs": [
        {
          "output_type": "stream",
          "name": "stdout",
          "text": [
            "Accuracy: 1.0\n"
          ]
        }
      ]
    },
    {
      "cell_type": "markdown",
      "source": [
        "## Prune the tree\n",
        "\n",
        "Limit the number of levels to 2"
      ],
      "metadata": {
        "id": "bLm9U6FV5XB2"
      }
    },
    {
      "cell_type": "code",
      "source": [
        "category_tree2 = DecisionTreeClassifier(criterion=\"entropy\", max_depth=2)\n",
        "\n",
        "# Create Decision Tree Classifer\n",
        "category_tree2 = category_tree2.fit(x,y)\n"
      ],
      "metadata": {
        "id": "eVaCrCeU5kmt"
      },
      "execution_count": null,
      "outputs": []
    },
    {
      "cell_type": "markdown",
      "source": [
        "## Preview the new tree"
      ],
      "metadata": {
        "id": "kmKO3QVT8apE"
      }
    },
    {
      "cell_type": "code",
      "source": [
        "category_tree2_text = tree.export_text(category_tree2)\n",
        "print(category_tree2_text)"
      ],
      "metadata": {
        "id": "83PSEPJd8e3i",
        "colab": {
          "base_uri": "https://localhost:8080/"
        },
        "outputId": "531b499c-2510-42c2-b138-b2cd5f0568ab"
      },
      "execution_count": null,
      "outputs": [
        {
          "output_type": "stream",
          "name": "stdout",
          "text": [
            "|--- feature_0 <= 50.50\n",
            "|   |--- class: 4\n",
            "|--- feature_0 >  50.50\n",
            "|   |--- feature_0 <= 100.50\n",
            "|   |   |--- class: 3\n",
            "|   |--- feature_0 >  100.50\n",
            "|   |   |--- class: 2\n",
            "\n"
          ]
        }
      ]
    },
    {
      "cell_type": "markdown",
      "source": [
        "## Re-Check Accuracy\n",
        "\n",
        "Is this accuracy better than making a random guess?  (check the distribution above)"
      ],
      "metadata": {
        "id": "KqK2LiaU7K1e"
      }
    },
    {
      "cell_type": "code",
      "source": [
        "pred = category_tree2.predict(x)\n",
        "\n",
        "print(\"Accuracy:\",metrics.accuracy_score(y, pred))"
      ],
      "metadata": {
        "id": "C2WGouWs6L5d",
        "colab": {
          "base_uri": "https://localhost:8080/"
        },
        "outputId": "cfc569f9-6069-441a-ffd3-66ce07a07062"
      },
      "execution_count": null,
      "outputs": [
        {
          "output_type": "stream",
          "name": "stdout",
          "text": [
            "Accuracy: 0.9998895149707214\n"
          ]
        }
      ]
    },
    {
      "cell_type": "markdown",
      "source": [
        "## Visualize the model"
      ],
      "metadata": {
        "id": "tYqqwO1l3e5l"
      }
    },
    {
      "cell_type": "code",
      "source": [
        "from six import StringIO\n",
        "from IPython.display import Image  \n",
        "import pydotplus\n",
        "\n",
        "dot_data = StringIO()\n",
        "export_graphviz(money_tree2, out_file=dot_data, \n",
        "                   feature_names=x.columns,class_names=['leave','stay'], \n",
        "                   filled=True,rounded=True, precision =2)\n",
        "\n",
        "graph=pydotplus.graph_from_dot_data(dot_data.getvalue())\n",
        "Image(graph.create_png())"
      ],
      "metadata": {
        "id": "yj--WKic3c_x"
      },
      "execution_count": null,
      "outputs": []
    },
    {
      "cell_type": "markdown",
      "source": [
        "## Fit a full tree model\n",
        "\n",
        "Use all of the independent attributes.  We'll call this the \"full tree.\" \n",
        "\n",
        "What is the accuracy of the full tree? "
      ],
      "metadata": {
        "id": "oKoXf3kkJVmm"
      }
    },
    {
      "cell_type": "code",
      "metadata": {
        "id": "SFOTNW70MbI9"
      },
      "source": [
        "# split the datafram into independent (x) and dependent (predicted) attributes (y)\n",
        "x = df_clean[['income','house','college','overage','leftover','handset_price','over_15mins_calls_per_month','average_call_duration','reported_satisfaction','reported_usage_level','considering_change_of_plan']]\n",
        "y = df_clean['leave']\n",
        "\n",
        "full_tree = DecisionTreeClassifier(criterion=\"entropy\", max_depth=1)\n",
        "\n",
        "# Create Decision Tree Classifer\n",
        "full_tree = full_tree.fit(x,y)\n"
      ],
      "execution_count": null,
      "outputs": []
    },
    {
      "cell_type": "markdown",
      "source": [
        "##Visualize the full tree"
      ],
      "metadata": {
        "id": "qkDk8JG8n_W9"
      }
    },
    {
      "cell_type": "code",
      "source": [
        "from six import StringIO\n",
        "from IPython.display import Image  \n",
        "import pydotplus\n",
        "\n",
        "dot_data = StringIO()\n",
        "export_graphviz(full_tree, out_file=dot_data, \n",
        "                   feature_names=x.columns,class_names=['leave','stay'], \n",
        "                   filled=True,rounded=True, precision =2)\n",
        "\n",
        "graph=pydotplus.graph_from_dot_data(dot_data.getvalue())\n",
        "Image(graph.create_png())"
      ],
      "metadata": {
        "id": "nFvB1n-_oBV6"
      },
      "execution_count": null,
      "outputs": []
    },
    {
      "cell_type": "markdown",
      "source": [
        "## Check Accuracy"
      ],
      "metadata": {
        "id": "m-ZyMMzIMrba"
      }
    },
    {
      "cell_type": "code",
      "source": [
        "pred = full_tree.predict(x)\n",
        "\n",
        "#print(pred)\n",
        "\n",
        "print(\"Accuracy:\",metrics.accuracy_score(y, pred))"
      ],
      "metadata": {
        "id": "Tzn8iS8hMtvQ"
      },
      "execution_count": null,
      "outputs": []
    },
    {
      "cell_type": "markdown",
      "source": [
        "##Test and Train\n",
        "Now we will split the dataset into 80% training data and 20% test data"
      ],
      "metadata": {
        "id": "phFKD8KKmgkF"
      }
    },
    {
      "cell_type": "code",
      "source": [
        "x_train, x_test, y_train, y_test = train_test_split(x, y, test_size=0.2)"
      ],
      "metadata": {
        "id": "77_0IJBRmuFT"
      },
      "execution_count": null,
      "outputs": []
    },
    {
      "cell_type": "markdown",
      "source": [
        "##Create a new tree using only training data"
      ],
      "metadata": {
        "id": "ZcjFH-MBnaml"
      }
    },
    {
      "cell_type": "code",
      "source": [
        "train_tree = DecisionTreeClassifier(criterion=\"entropy\", max_depth=5)\n",
        "\n",
        "# Create Decision Tree Classifer\n",
        "train_tree = train_tree.fit(x_train,y_train)"
      ],
      "metadata": {
        "id": "ZS66hDodnmIX"
      },
      "execution_count": null,
      "outputs": []
    },
    {
      "cell_type": "markdown",
      "source": [
        "##Apply the new tree to our test data"
      ],
      "metadata": {
        "id": "meDBr2fatOqF"
      }
    },
    {
      "cell_type": "code",
      "source": [
        "pred = train_tree.predict(x_test)\n",
        "print(\"Accuracy:\",metrics.accuracy_score(y_test, pred))"
      ],
      "metadata": {
        "id": "UneJift1nxVb"
      },
      "execution_count": null,
      "outputs": []
    },
    {
      "cell_type": "markdown",
      "source": [
        "## Visualize the trained tree"
      ],
      "metadata": {
        "id": "uYl-WnlrNBbr"
      }
    },
    {
      "cell_type": "code",
      "source": [
        "from six import StringIO\n",
        "from IPython.display import Image  \n",
        "import pydotplus\n",
        "\n",
        "dot_data = StringIO()\n",
        "export_graphviz(train_tree, out_file=dot_data, \n",
        "                   feature_names=x.columns,class_names=['leave','stay'], \n",
        "                   filled=True,rounded=True, precision =2)\n",
        "\n",
        "graph=pydotplus.graph_from_dot_data(dot_data.getvalue())\n",
        "Image(graph.create_png())"
      ],
      "metadata": {
        "id": "JsdhyStgNEYy"
      },
      "execution_count": null,
      "outputs": []
    },
    {
      "cell_type": "markdown",
      "source": [
        "## Did the model improve?\n",
        "👎  👍"
      ],
      "metadata": {
        "id": "G0xA_kdGQ1Ln"
      }
    }
  ]
}